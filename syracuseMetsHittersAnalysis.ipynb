{
 "cells": [
  {
   "attachments": {},
   "cell_type": "markdown",
   "metadata": {},
   "source": [
    "## An Analysis of the 2024 Syracuse Mets\n",
    "In this analysis we're going to be looking at basic stats collected from Baseball Refernce and new advanced stats scraped from Baseball Savant's minor league stat cast database.\n",
    "I'm going to focus on hitters with over 100 plate appearences so we can get an accurate understanding of players who have a decent sample size of play in AAA. I'll also be looking at players under the age of 27 since the Mets as an organization have a large focus on their young prospects that can help the team win in the near future."
   ]
  },
  {
   "cell_type": "code",
   "execution_count": 1,
   "metadata": {},
   "outputs": [],
   "source": [
    "import pandas as pd\n",
    "from utils import *\n",
    "from IPython.display import display, HTML\n",
    "\n",
    "# You can also prevent truncation of large DataFrames\n",
    "pd.set_option('display.expand_frame_repr', False)\n",
    "\n",
    "# Set maximum column width\n",
    "pd.set_option('display.max_colwidth', 200)\n",
    "\n",
    "# Set the maximum number of columns displayed\n",
    "pd.set_option('display.max_columns', None)\n",
    "\n",
    "# Set the maximum number of rows displayed\n",
    "pd.set_option('display.max_rows', None)\n",
    "\n",
    "# Set display width to ensure DataFrame fits in the notebook\n",
    "pd.set_option('display.width', 3000)\n",
    "\n",
    "# Select Mets players below 27 and with over 100 plate appearences\n",
    "completeMetsAAAStats = completeMetsAAAStats[(completeMetsAAAStats['PA'] > 100) & (completeMetsAAAStats['Age'] <= 26)]"
   ]
  },
  {
   "attachments": {},
   "cell_type": "markdown",
   "metadata": {},
   "source": [
    "## Initial Analysis / Basic Slash Line\n",
    "\n",
    "To start our analysis, I'm going to look at the most traditional way we look at hitters: the slash line. Now I know OPS is not included in a traditional slash line but I put it because I believe it's one of the best non-advanced stats to display a hitter's overall performance.\n",
    "\n",
    "With our criteria stated above, we're given 5 players on the team that meet these requirements: Brett Baty, Mark Vientos, Luisangel Acuna, Thomas Rhyland, and Drew Gilbert.\n",
    "\n",
    "Looking at these stats I can see two standouts, Brett Baty and Mark Vientos. I say these are our standouts because they're hitting above .800 OPS demonstrating an ability to hit for power and get on base, at least on a surface level. \n",
    "\n",
    "Let's take a look at how these players stack up versus AAA league averages."
   ]
  },
  {
   "cell_type": "code",
   "execution_count": 2,
   "metadata": {},
   "outputs": [
    {
     "name": "stdout",
     "output_type": "stream",
     "text": [
      "                             Player   Age    G   PA   AB     BA    OBP    SLG    OPS\n",
      "3                       Baty, Brett  24.0   56  246  211  0.261  0.358  0.536  0.885\n",
      "27                    Vientos, Mark  24.0   31  132  116  0.284  0.371  0.500  0.876\n",
      "0        Acuï¿½a, Luisangel NYM #12  22.0  110  486  452  0.265  0.313  0.369  0.676\n",
      "25                   Thomas, Rhylan  24.0   49  192  179  0.229  0.281  0.374  0.663\n",
      "9   Gilbert, Drew MLB #81 / #NYM #3  23.0   26  111   97  0.216  0.315  0.309  0.577\n"
     ]
    }
   ],
   "source": [
    "# Select the basic statline stats and basic info I want to see for each player: Player, Age, G, PA, AB, BA, OBP, SLG, OPS\n",
    "print(completeMetsAAAStats[defaultInfo + slashLine].sort_values(by='OPS', ascending=False))"
   ]
  },
  {
   "attachments": {},
   "cell_type": "markdown",
   "metadata": {},
   "source": [
    "## League Averages Comparison\n",
    "<p>\n",
    "In terms of batting average, Brett Baty sits at just above the league average. But if we continue to look down his stat line, he's anything but average. Baty's in the top half of the league for OBP which is incredibly valuable in today's game. You need base runners to score runs. However, this is not where his strangth is. His strength lies in his SLG/power. His slugging percentage is in the top quartile for the league, pretty handidly too. He's also in the top quartile for OPS. On a basic level, this shows his ability to hit for power while not compromising his ability to get on base. \n",
    "\n",
    "Next, I'll be looking at Mark Vientos. Although Mark Vientos has already been promoted to the Majors, it's important to look at the stats of players that have been called up and had success in the MLB. And I would definitely put Mark Vientos in this category with his incredible 2024 season. When looking at Vientos' batting average, it's clear he was having some level of success at the plate. He ranked in the upper quartile comfortably. Suprsingly, this is true for all of his stats except OBP where he still ranked in the 3rd quartile. Similar to Baty, Mark Vientos' slash line conveys his ability to hit for power but where he outperforms Baty is getting on base and getting on base through contact. However, Baty still does slightly have the edge in terms of power if we're basing this purely on slugging percentage. \n",
    "\n",
    "Now lets take a look at one of our top prospects: Luisangel Acuña. At first glance, his slash line is extremly underwhelming. For every stat except batting average, he ranks in the bottom quartile of the league. And even his batting average only falls into the third quartile. This tells me that despite the fact he can get on base fairly well through his hits, his overall ability to get on base as well as his power is lacking.\n",
    "\n",
    "A lot of these observations for Acuña can made for Drew Gilbert as well thus far. They also fall into the bottom quartile for all slash line stats as well as OBP. However, with Drew Gilbert it's important to note his experience in AAA so far. He's barely had 100 plate appearences and more likely than not just needs more time to adjust to AAA. He previously put up decent numbers in the lower levels. We traded Rylan Thomas for Ryne Stanek so I won't focus on him too much.\n",
    "</p>"
   ]
  },
  {
   "cell_type": "code",
   "execution_count": 3,
   "metadata": {},
   "outputs": [
    {
     "name": "stdout",
     "output_type": "stream",
     "text": [
      "               BA         OBP         SLG         OPS\n",
      "count  471.000000  471.000000  471.000000  471.000000\n",
      "mean     0.257062    0.347420    0.428486    0.775907\n",
      "std      0.038070    0.042097    0.081750    0.112078\n",
      "min      0.135000    0.204000    0.226000    0.431000\n",
      "25%      0.234000    0.322000    0.374000    0.703000\n",
      "50%      0.258000    0.346000    0.431000    0.780000\n",
      "75%      0.280000    0.373000    0.480500    0.853500\n",
      "max      0.401000    0.515000    0.678000    1.179000\n"
     ]
    }
   ],
   "source": [
    "# Clean and convert columns that are mistyped\n",
    "columnsToConvert = ['OBP', 'SLG', 'BA']\n",
    "leaguewideAAAStatsDf = convertColumnsToNumeric(leaguewideAAAStatsDf, columnsToConvert).copy()\n",
    "\n",
    "# Calculate OPS for leaguewide data, this isn't a stat provided to us by Baseball Savant in the league data\n",
    "leaguewideAAAStatsDf['OPS'] = leaguewideAAAStatsDf['OBP'] + leaguewideAAAStatsDf['SLG']\n",
    "\n",
    "# Select all players in AAA with over 100 plate appearences\n",
    "leaguewideAAAStatsDf = leaguewideAAAStatsDf[leaguewideAAAStatsDf['PA'] > 100]\n",
    "\n",
    "# Get league mean, standard deviation, percentiles, and min/max values for BA, OBP, SLG, and OPS and concat the dataframes to one list for easy viewing. \n",
    "summary_df = pd.concat([\n",
    "    leaguewideAAAStatsDf['BA'].describe(),\n",
    "    leaguewideAAAStatsDf['OBP'].describe(),\n",
    "    leaguewideAAAStatsDf['SLG'].describe(),\n",
    "    leaguewideAAAStatsDf['OPS'].describe()\n",
    "], axis=1)\n",
    "\n",
    "print(summary_df)"
   ]
  },
  {
   "attachments": {},
   "cell_type": "markdown",
   "metadata": {},
   "source": [
    "## Actual Stats vs Expected Stats\n",
    "Before looking at potential reasons why these player's stats look like this, it's important to see how they're peforming vs their expected stats. \n",
    "\n",
    "Let's examine Brett Baty. \n",
    "His actual stats are lower than his expected stats in every category. This could be the case for a number of reasons and doesn't necessarily mean he's underperforming. Since Baty's batting average is lower than his expected output, this could suggest a number of possibilities. It is very possible he's just outright underperorming, but more likely than not it means he's getting very unlucky with some hard hit balls or hitting against some difficult defensive alignments. I say this because a .278 xBA is still great and if Baty continues to hit like this, we should see his actual batting average go up. I would give a similar analysis to his OBP vs xOBP, SLG vs xSLG, and wOBA vs xwOBA. If Baty continues the quality of his at bats and contact, his slash line should continue to trend up.\n",
    "\n",
    "Next lets look at an interesting case: Mark Vientos. Despite the fact that he's doing better than Baty in BA and OBP and slighly worse in SLG, all of his expected stats are lower than Baty's. Since Vientos' actual stats are significantly higher than his expected, this could be indicative of a few things. It could mean he's getting lucky for the quality of his contact. Maybe he's getting a few lucky bounces or bloop hits that would raise his average. Or he could be potentially hitting home runs/extra-base hits that might not always carry out of the park or fall in for hits. While this might indicate his actual stats aren't sustainable, I peronsally believe these should be taken with a grain of salt. It's important to also look at the quality of contact and power a hitter is making to come to a complete conclusion, which we'll do later on. \n",
    "\n",
    "Let's move on to Luisangel Acuna. Similar to Vientos, he's outpeforming his expected stats except all of his actual and expected stats are lower than Vientos'. This shows me that if Vientos is getting lucky, then Acuna is getting nearly as lucky but seeing less of a payoff for it. His average is lower, he's getting on base less, and power is lacking. So the observations we made for Vientos' contact quality and base hit luck are same that I'd make here and really for all the prospects beneath Acuna as well. \n",
    "\n",
    "While I think these are important stats to note and observe, I don't know if they necessarily directly translate to any concrete predictions. Even though Baty's expected stats are better than Vientos', Baty has struggled at the major league level while Vientos has seen success this season. This is not to say ignore these stats, but they are definitely more descriptive than predictive."
   ]
  },
  {
   "cell_type": "code",
   "execution_count": 4,
   "metadata": {},
   "outputs": [
    {
     "name": "stdout",
     "output_type": "stream",
     "text": [
      "                             Player     BA    xBA    OBP   xOBP    SLG   xSLG   wOBA  xwOBA    OPS\n",
      "3                       Baty, Brett  0.261  0.278  0.358  0.375  0.536  0.552  0.381  0.397  0.885\n",
      "27                    Vientos, Mark  0.284  0.237  0.371  0.331  0.500  0.444  0.376  0.337  0.876\n",
      "0        Acuï¿½a, Luisangel NYM #12  0.265  0.236  0.313  0.287  0.369  0.325  0.299  0.273  0.676\n",
      "25                   Thomas, Rhylan  0.229  0.203  0.281  0.257  0.374  0.281  0.286  0.242  0.663\n",
      "9   Gilbert, Drew MLB #81 / #NYM #3  0.216  0.189  0.315  0.291  0.309  0.282  0.286  0.264  0.577\n"
     ]
    }
   ],
   "source": [
    "print(completeMetsAAAStats[['Player'] + actualVsEx + ['OPS']].sort_values(by='OPS', ascending=False))"
   ]
  },
  {
   "attachments": {},
   "cell_type": "markdown",
   "metadata": {},
   "source": [
    "# Batter Profiles"
   ]
  },
  {
   "cell_type": "code",
   "execution_count": 5,
   "metadata": {},
   "outputs": [
    {
     "name": "stdout",
     "output_type": "stream",
     "text": [
      "       Barrel/PA%  Barrel/BBE%       BABIP   Hard Hit%    EV (MPH)  Adj. EV (MPH)   Dist (ft)\n",
      "count  471.000000   471.000000  471.000000  471.000000  471.000000     471.000000  471.000000\n",
      "mean     3.971550     6.336518    0.312605   35.555626   87.719108      91.218896  154.777070\n",
      "std      2.194024     3.711165    0.044797    8.125097    2.313921       0.818278   11.143512\n",
      "min      0.000000     0.000000    0.153000    9.400000   80.400000      89.200000  126.000000\n",
      "25%      2.300000     3.400000    0.286000   30.600000   86.100000      90.600000  147.000000\n",
      "50%      3.700000     5.700000    0.314000   35.800000   87.700000      91.200000  155.000000\n",
      "75%      5.400000     8.800000    0.340000   41.450000   89.400000      91.700000  162.000000\n",
      "max     10.700000    18.000000    0.486000   59.100000   95.500000      94.100000  184.000000\n",
      "                             Player  BIP  BABIP  Barrels  Hard Hit%  EV (MPH)  Adj. EV (MPH)  LA (ï¿½)  Dist (ft)  Barrel/BBE%  Barrel/PA%\n",
      "3                       Baty, Brett  164  0.264       26       46.3      88.5           92.9        13        167         15.9        10.6\n",
      "27                    Vientos, Mark   78  0.375       10       47.4      91.8           92.8         5        151         12.8         7.6\n",
      "9   Gilbert, Drew MLB #81 / #NYM #3   70  0.279        3       24.3      85.9           91.2        18        145          4.3         2.7\n",
      "0        Acuï¿½a, Luisangel NYM #12  376  0.308       13       36.2      88.3           91.5         5        129          3.5         2.7\n",
      "25                   Thomas, Rhylan  155  0.240        1       23.2      86.4           89.6        11        162          0.6         0.5\n"
     ]
    }
   ],
   "source": [
    "# Determine columns that are getting cleaned and converted\n",
    "columnsToConvert = ['Barrel/PA%', 'Barrel/BBE%', 'BABIP', 'Hard Hit%', 'EV (MPH)', 'Adj. EV (MPH)', 'Dist (ft)']\n",
    "leaguewideAverages = describeColumns(leaguewideAAAStatsDf, columnsToConvert)\n",
    "\n",
    "print(leaguewideAverages)\n",
    "print(completeMetsAAAStats[['Player'] + contactQuality].sort_values(by='Barrel/BBE%', ascending=False))"
   ]
  },
  {
   "attachments": {},
   "cell_type": "markdown",
   "metadata": {},
   "source": [
    "## Brett Baty\n",
    "Let's take a look back at the profile we've developed for Brett Baty before proceeding. Brett Baty is someone who can get on base at an above average rate but his strength lies in his slugging. He's excellent at hitting for power. However, after looking at his expected stats, it seems like he's getting unlucky on some hard hit balls or defensive alignments, leading to lower than expected hitting stats. But if he continues to hit like he is right now, his slash line should go up.\n",
    "\n",
    "To confirm this I'll look at his BABIP, Hard Hit%, adjusted exit velo, as well as both of his barrel ratios. In terms of BABIP, Baty falls into the bottom quartile meaning that whenever he puts the ball in play, he's getting on base at one of the lowest rates in the league. Now a low BABIP can be an indicator for a number of things. Bad luck, weak contact, lots of shift adjusments, or even slow on the bases. Looking at some other stats available, we can take out the possibility of weak contact. Baty's Hard Hit%, adjusted exit velo, hit distance, and barrel ratios are all in the top quartile. Meaning he hits the ball hard at one of the highest rates in the league. For non adjusted exit velo he also still falls in the top half of the league, just missing the cut off for the upper quartile. This almost perfectly fits the description we came up with for Baty. He hits the ball extremely hard, but on balls in play he can get unlucky, hit into the shift, or he's slow on the base path. \n",
    "\n",
    "Luckily, with Baseball Savant's minor league statcast search, we can look at pitch-by-pitch statistics."
   ]
  },
  {
   "cell_type": "code",
   "execution_count": 6,
   "metadata": {},
   "outputs": [
    {
     "name": "stdout",
     "output_type": "stream",
     "text": [
      "      player_name   game_date pitch_type  launch_angle  launch_speed  hit_location  hit_distance_sc     events                                                             des\n",
      "105   Baty, Brett  2024-08-18         CU          36.0          96.5           7.0            337.0  field_out                  Brett Baty flies out to left fielder Jake Alu.\n",
      "2716  Baty, Brett  2024-07-27         FF          26.0         100.5           9.0            354.0  field_out   Brett Baty flies out sharply to right fielder Will Robertson.\n",
      "5933  Baty, Brett  2024-06-26         FC          34.0         101.2           8.0            396.0  field_out  Brett Baty flies out sharply to center fielder Will Robertson.\n",
      "6753  Baty, Brett  2024-06-19         FC          63.0         100.6           7.0            193.0  field_out                 Brett Baty flies out to left fielder Alex Call.\n",
      "Hard hard outs: 28\n",
      "Barrel outs: 4\n"
     ]
    }
   ],
   "source": [
    "# Modify the column name for pitch type\n",
    "metsAAApbpSavant.columns.values[0] = 'pitch_type'\n",
    "\n",
    "# Clean and convert \n",
    "colToCon = ['launch_speed']\n",
    "batyPbp = convertColumnsToNumeric(metsAAApbpSavant, colToCon)\n",
    "\n",
    "# Select info for Brett Baty\n",
    "batyPbp = batyPbp[(batyPbp['player_name'] == 'Baty, Brett')]\n",
    "\n",
    "# Select pitches were the outcome was an out in play\n",
    "batyPbpOuts = batyPbp[batyPbp['events'].isin(pbpOuts)].copy()\n",
    "\n",
    "# Select outs that were a barrel or hard hit outs Baty Had\n",
    "hardHitOuts = batyPbpOuts[(batyPbpOuts['player_name'] == 'Baty, Brett') & (batyPbpOuts['launch_speed'] >= 95)].copy()\n",
    "barrelOuts = batyPbpOuts[hardContact][(batyPbpOuts['launch_speed'] >= 95) & (batyPbpOuts['launch_angle'] >= 26)].copy()\n",
    "\n",
    "#print(batyPbp[hardContact].sort_values(by='launch_speed', ascending=False))\n",
    "print(barrelOuts)\n",
    "print('Hard hard outs: ' + str(len(hardHitOuts)))\n",
    "print('Barrel outs: ' + str(len(barrelOuts)))"
   ]
  },
  {
   "attachments": {},
   "cell_type": "markdown",
   "metadata": {},
   "source": [
    "Unfortunately, I can't get descriptive league wide stats on how many hard hit outs each hitter has due to some Baseball Savant limitations. If I try to get league wide pitch by pitch stats, the pitches only go back to mid-July and I'd have to scrape the rest of the dates/pitches dynamically which posed its own set of problems. Ultimately, it seemed like more work then necessary for something I would use once. However, in the future as I expand this project I will be looking to solve this issue.\n",
    "\n",
    "I was able to do a similar search using Baseball Savant's filters and found out Baty was in the bottom half of hitters with barrel/hard hit outs. So it doesn't seem like he's getting anymore unlucky than his peers.\n",
    "\n",
    "This isn't particularly important to Baty's analysis, but if we look at his hard hit out from June 26th, 2024... How did this not leave the park? 101.2 launch speed and it traveled 396 feet. "
   ]
  },
  {
   "cell_type": "code",
   "execution_count": 7,
   "metadata": {},
   "outputs": [
    {
     "name": "stdout",
     "output_type": "stream",
     "text": [
      "105\n",
      "4.0    26\n",
      "3.0    16\n",
      "6.0    16\n",
      "7.0    15\n",
      "5.0    10\n",
      "8.0    10\n",
      "9.0     5\n",
      "1.0     4\n",
      "2.0     3\n",
      "Name: hit_location, dtype: int64\n"
     ]
    }
   ],
   "source": [
    "print(len(batyPbpOuts))\n",
    "print(batyPbpOuts['hit_location'].value_counts())"
   ]
  },
  {
   "attachments": {},
   "cell_type": "markdown",
   "metadata": {},
   "source": [
    "Looking at the location of his outs, we find why Baty's BABIP and BA is lower than expected: he's hitting defensive shifts. So far this season he's had 105 outs in play and 42 of these were to the first basemen or second basemen, which is about 40%. If we expand this to include the shortstop who is very often involved in shifts, it would go up to 58 outs into the shift, or 55% of Baty's in-play outs."
   ]
  }
 ],
 "metadata": {
  "kernelspec": {
   "display_name": "Python 3",
   "language": "python",
   "name": "python3"
  },
  "language_info": {
   "codemirror_mode": {
    "name": "ipython",
    "version": 3
   },
   "file_extension": ".py",
   "mimetype": "text/x-python",
   "name": "python",
   "nbconvert_exporter": "python",
   "pygments_lexer": "ipython3",
   "version": "3.7.9"
  },
  "orig_nbformat": 4
 },
 "nbformat": 4,
 "nbformat_minor": 2
}
