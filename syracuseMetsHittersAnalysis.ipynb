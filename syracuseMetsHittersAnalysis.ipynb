{
 "cells": [
  {
   "cell_type": "code",
   "execution_count": 4,
   "metadata": {},
   "outputs": [
    {
     "name": "stdout",
     "output_type": "stream",
     "text": [
      "                             Player   Age    G   PA   AB     BA    OBP    SLG    OPS  HR         RC\n",
      "3                       Baty, Brett  24.0   56  241  207  0.256  0.353  0.531  0.885  16  39.223629\n",
      "27                    Vientos, Mark  24.0   31  132  116  0.284  0.371  0.500  0.876   6  21.251908\n",
      "0        Acuï¿½a, Luisangel NYM #12  22.0  110  481  447  0.266  0.314  0.371  0.676   6  52.165618\n",
      "25                   Thomas, Rhylan  24.0   49  192  179  0.229  0.281  0.374  0.663   5  19.406250\n",
      "9   Gilbert, Drew MLB #81 / #NYM #3  23.0   26  106   92  0.207  0.311  0.272  0.577   1   7.281553\n",
      "               BA         OBP         SLG         OPS\n",
      "count  491.000000  491.000000  491.000000  491.000000\n",
      "mean     0.256847    0.347171    0.428230    0.775401\n",
      "std      0.039439    0.042817    0.084938    0.116044\n",
      "min      0.115000    0.204000    0.226000    0.431000\n",
      "25%      0.234000    0.321000    0.370500    0.698500\n",
      "50%      0.258000    0.346000    0.429000    0.780000\n",
      "75%      0.280500    0.373500    0.481000    0.854000\n",
      "max      0.401000    0.515000    0.690000    1.179000\n"
     ]
    }
   ],
   "source": [
    "import pandas as pd\n",
    "from utils import *\n",
    "\n",
    "pd.set_option('display.width', 2000)\n",
    "pd.set_option('display.max_columns', None)\n",
    "\n",
    "columnsToConvert = ['OBP', 'SLG', 'Whiff%', 'BA']\n",
    "leaguewideAAAStatsDf = convertColumnsToNumeric(leaguewideAAAStatsDf, columnsToConvert)\n",
    "\n",
    "leaguewideAAAStatsDf['OPS'] = leaguewideAAAStatsDf['OBP'] + leaguewideAAAStatsDf['SLG']\n",
    "\n",
    "completeMetsAAAStats = joinSavantBbref(metsAAAbballSavant, metsAAAbballRef)\n",
    "completeMetsAAAStats['RC'] = ((completeMetsAAAStats['Hits'] + completeMetsAAAStats['BB']) * completeMetsAAAStats['TB'])/(completeMetsAAAStats['AB'] + completeMetsAAAStats['BB'])\n",
    "\n",
    "completeMetsAAAStats = completeMetsAAAStats[(completeMetsAAAStats['PA'] > 90) & (completeMetsAAAStats['Age'] <= 26)]\n",
    "\n",
    "leaguewideAAAStatsDf = calculateSavantStats(leaguewideAAAStatsDf)\n",
    "leaguewideAAAStatsDf = leaguewideAAAStatsDf[leaguewideAAAStatsDf['PA'] > 90]\n",
    "\n",
    "print(completeMetsAAAStats[defaultInfo + slashLine + ['HR', 'RC']].sort_values(by='OPS', ascending=False))\n",
    "summary_df = pd.concat([\n",
    "    leaguewideAAAStatsDf['BA'].describe(),\n",
    "    leaguewideAAAStatsDf['OBP'].describe(),\n",
    "    leaguewideAAAStatsDf['SLG'].describe(),\n",
    "    leaguewideAAAStatsDf['OPS'].describe()\n",
    "], axis=1)\n",
    "\n",
    "# Rename the columns to reflect the stats\n",
    "summary_df.columns = ['BA', 'OBP', 'SLG', 'OPS']\n",
    "\n",
    "print(summary_df)\n",
    "\n",
    "#completeMetsAAAStats.plot(kind='bar', x='Player', y='HR', title='Home Runs by Player', legend=False)"
   ]
  },
  {
   "cell_type": "code",
   "execution_count": 2,
   "metadata": {},
   "outputs": [
    {
     "name": "stdout",
     "output_type": "stream",
     "text": [
      "                             Player   Age    G   PA   AB     BA    OBP    SLG    OPS     BA    xBA    OBP   xOBP    SLG   xSLG   wOBA  xwOBA\n",
      "3                       Baty, Brett  24.0   56  236  202  0.248  0.347  0.510  0.885  0.248  0.271  0.347  0.370  0.510  0.534  0.367  0.389\n",
      "27                    Vientos, Mark  24.0   31  132  116  0.284  0.371  0.500  0.876  0.284  0.237  0.371  0.331  0.500  0.444  0.376  0.337\n",
      "0          Acuña, Luisangel NYM #12  22.0  109  472  440  0.270  0.316  0.377  0.679  0.270  0.236  0.316  0.286  0.377  0.327  0.303  0.273\n",
      "25                   Thomas, Rhylan  24.0   49  192  179  0.229  0.281  0.374  0.663  0.229  0.203  0.281  0.257  0.374  0.281  0.286  0.242\n",
      "9   Gilbert, Drew MLB #81 / #NYM #3  23.0   25   97   84  0.214  0.320  0.286  0.589  0.214  0.193  0.320  0.301  0.286  0.266  0.280  0.264\n",
      "22                   Senger, Hayden  24.0   23  131  115  0.252  0.336  0.417  0.567  0.252  0.226  0.336  0.315  0.417  0.346  0.330  0.296\n"
     ]
    }
   ],
   "source": [
    "print(completeMetsAAAStats[defaultInfo + slashLine + actualVsEx].sort_values(by='OPS', ascending=False))"
   ]
  },
  {
   "cell_type": "code",
   "execution_count": 3,
   "metadata": {},
   "outputs": [
    {
     "name": "stdout",
     "output_type": "stream",
     "text": [
      "                             Player   Age    G   PA   AB     BA    OBP    SLG    OPS  SO    K%  BB   BB%  Swings  Whiffs  Whiff%  Barrel/BBE%  Barrel/PA%    OBP   xOBP\n",
      "3                       Baty, Brett  24.0   56  236  202  0.248  0.347  0.510  0.885  48  20.3  30  12.7     429     113    26.3         15.4        10.2  0.347  0.370\n",
      "27                    Vientos, Mark  24.0   31  132  116  0.284  0.371  0.500  0.876  38  28.8  15  11.4     238      79    33.2         12.8         7.6  0.371  0.331\n",
      "0          Acuña, Luisangel NYM #12  22.0  109  472  440  0.270  0.316  0.377  0.679  75  15.9  28   5.9     840     180    21.4          3.5         2.8  0.316  0.286\n",
      "25                   Thomas, Rhylan  24.0   49  192  179  0.229  0.281  0.374  0.663  24  12.5  13   6.8     387      54    14.0          0.6         0.5  0.281  0.257\n",
      "9   Gilbert, Drew MLB #81 / #NYM #3  23.0   25   97   84  0.214  0.320  0.286  0.589  24  24.7  11  11.3     166      47    28.3          3.3         2.1  0.320  0.301\n",
      "22                   Senger, Hayden  24.0   23  131  115  0.252  0.336  0.417  0.567  31  23.7  11   8.4     241      65    27.0          4.7         3.1  0.336  0.315\n"
     ]
    }
   ],
   "source": [
    "print(completeMetsAAAStats[defaultInfo + slashLine + plateDiscipline].sort_values(by='OPS', ascending=False))"
   ]
  },
  {
   "cell_type": "code",
   "execution_count": 4,
   "metadata": {},
   "outputs": [
    {
     "name": "stdout",
     "output_type": "stream",
     "text": [
      "                             Player   Age    G   PA   AB     BA    OBP    SLG    OPS  HR    SLG   xSLG    ISO  EV (MPH)  Adj. EV (MPH)  LA (°)  Dist (ft)  Hard Hit%\n",
      "3                       Baty, Brett  24.0   56  236  202  0.248  0.347  0.510  0.885  15  0.510  0.534  0.262      88.1           92.7      14        168       44.9\n",
      "27                    Vientos, Mark  24.0   31  132  116  0.284  0.371  0.500  0.876   6  0.500  0.444  0.216      91.8           92.8       5        151       47.4\n",
      "0          Acuña, Luisangel NYM #12  22.0  109  472  440  0.270  0.316  0.377  0.679   6  0.377  0.327  0.107      88.2           91.5       4        128       36.2\n",
      "25                   Thomas, Rhylan  24.0   49  192  179  0.229  0.281  0.374  0.663   5  0.374  0.281  0.145      86.4           89.6      11        162       23.2\n",
      "9   Gilbert, Drew MLB #81 / #NYM #3  23.0   25   97   84  0.214  0.320  0.286  0.589   1  0.286  0.266  0.071      85.4           91.1      19        148       25.0\n",
      "22                   Senger, Hayden  24.0   23  131  115  0.252  0.336  0.417  0.567   3  0.417  0.346  0.165      85.5           91.0      10        147       28.2\n",
      "None\n"
     ]
    }
   ],
   "source": [
    "print(print(completeMetsAAAStats[defaultInfo + slashLine + powerQuality].sort_values(by='OPS', ascending=False)))"
   ]
  }
 ],
 "metadata": {
  "kernelspec": {
   "display_name": "Python 3",
   "language": "python",
   "name": "python3"
  },
  "language_info": {
   "codemirror_mode": {
    "name": "ipython",
    "version": 3
   },
   "file_extension": ".py",
   "mimetype": "text/x-python",
   "name": "python",
   "nbconvert_exporter": "python",
   "pygments_lexer": "ipython3",
   "version": "3.7.9"
  },
  "orig_nbformat": 4
 },
 "nbformat": 4,
 "nbformat_minor": 2
}
