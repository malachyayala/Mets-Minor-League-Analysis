{
 "cells": [
  {
   "attachments": {},
   "cell_type": "markdown",
   "metadata": {},
   "source": [
    "## An Analysis of the 2024 Syracuse Mets\n",
    "In this analysis we're going to be looking at basic stats collected from Baseball Refernce and new advanced stats scraped from Baseball Savant's minor league stat cast database.\n",
    "I'm going to focus on hitters with over 100 plate appearences so we can get an accurate understanding of players who have a decent sample size of play in AAA. I'll also be looking at players under the age of 27 since the Mets as an organization have a large focus on their young prospects that can help the team win in the near future."
   ]
  },
  {
   "cell_type": "code",
   "execution_count": 3,
   "metadata": {},
   "outputs": [],
   "source": [
    "import pandas as pd\n",
    "from utils import *\n",
    "\n",
    "pd.set_option('display.width', 2000)\n",
    "pd.set_option('display.max_columns', None)\n",
    "\n",
    "# Select Mets players below 27 and with over 100 plate appearences\n",
    "completeMetsAAAStats = completeMetsAAAStats[(completeMetsAAAStats['PA'] > 100) & (completeMetsAAAStats['Age'] <= 26)]"
   ]
  },
  {
   "cell_type": "code",
   "execution_count": 7,
   "metadata": {},
   "outputs": [
    {
     "name": "stdout",
     "output_type": "stream",
     "text": [
      "                             Player   Age    G   PA   AB     BA    OBP    SLG    OPS\n",
      "3                       Baty, Brett  24.0   56  241  207  0.256  0.353  0.531  0.885\n",
      "27                    Vientos, Mark  24.0   31  132  116  0.284  0.371  0.500  0.876\n",
      "0        Acuï¿½a, Luisangel NYM #12  22.0  110  481  447  0.266  0.314  0.371  0.676\n",
      "25                   Thomas, Rhylan  24.0   49  192  179  0.229  0.281  0.374  0.663\n",
      "9   Gilbert, Drew MLB #81 / #NYM #3  23.0   26  106   92  0.207  0.311  0.272  0.577\n"
     ]
    }
   ],
   "source": [
    "# Select the basic statline stats and basic info I want to see for each player: Player, Age, G, PA, AB, BA, OBP, SLG, OPS\n",
    "print(completeMetsAAAStats[defaultInfo + slashLine].sort_values(by='OPS', ascending=False))\n"
   ]
  },
  {
   "attachments": {},
   "cell_type": "markdown",
   "metadata": {},
   "source": [
    "## Initial Analysis / Basic Slash Line\n",
    "\n",
    "To start our analysis, I'm going to look at the most traditional way we look at hitters: the slash line. Now I know OPS is not included in a traditional slash line but I put it because I believe it's one of the best non-advanced stats to display a hitter's overall performance.\n",
    "\n",
    "With our criteria stated above, we're given 5 players on the team that meet these requirements: Brett Baty, Mark Vientos, Luisangel Acuna, Thomas Rhyland, and Drew Gilbert.\n",
    "\n",
    "Looking at these stats I can see two standouts, Brett Baty and Mark Vientos. I say these are our standouts because they're hitting above .800 OPS demonstrating an ability to hit for power and get on base, at least on a surface level. \n",
    "\n",
    "Let's take a look at how these players stack up versus AAA league averages."
   ]
  },
  {
   "cell_type": "code",
   "execution_count": 8,
   "metadata": {},
   "outputs": [
    {
     "name": "stdout",
     "output_type": "stream",
     "text": [
      "               BA         OBP         SLG         OPS\n",
      "count  471.000000  471.000000  471.000000  471.000000\n",
      "mean     0.257062    0.347420    0.428486    0.775907\n",
      "std      0.038070    0.042097    0.081750    0.112078\n",
      "min      0.135000    0.204000    0.226000    0.431000\n",
      "25%      0.234000    0.322000    0.374000    0.703000\n",
      "50%      0.258000    0.346000    0.431000    0.780000\n",
      "75%      0.280000    0.373000    0.480500    0.853500\n",
      "max      0.401000    0.515000    0.678000    1.179000\n"
     ]
    }
   ],
   "source": [
    "# Clean and convert columns that are mistyped\n",
    "columnsToConvert = ['OBP', 'SLG', 'BA']\n",
    "leaguewideAAAStatsDf = convertColumnsToNumeric(leaguewideAAAStatsDf, columnsToConvert)\n",
    "\n",
    "# Calculate OPS for leaguewide data, this isn't a stat provided to us by Baseball Savant in the league data\n",
    "leaguewideAAAStatsDf['OPS'] = leaguewideAAAStatsDf['OBP'] + leaguewideAAAStatsDf['SLG']\n",
    "\n",
    "# Select all players in AAA with over 100 plate appearences\n",
    "leaguewideAAAStatsDf = leaguewideAAAStatsDf[leaguewideAAAStatsDf['PA'] > 100]\n",
    "\n",
    "# Get league mean, standard deviation, percentiles, and min/max values for BA, OBP, SLG, and OPS and concat the dataframes to one list for easy viewing. \n",
    "summary_df = pd.concat([\n",
    "    leaguewideAAAStatsDf['BA'].describe(),\n",
    "    leaguewideAAAStatsDf['OBP'].describe(),\n",
    "    leaguewideAAAStatsDf['SLG'].describe(),\n",
    "    leaguewideAAAStatsDf['OPS'].describe()\n",
    "], axis=1)\n",
    "\n",
    "print(summary_df)"
   ]
  },
  {
   "attachments": {},
   "cell_type": "markdown",
   "metadata": {},
   "source": [
    "## League Averages Comparison\n",
    "In terms of batting average, Brett Baty sits at below the league average. But if we continue to look down his stat line, he's anything but average. Baty's in the top half of the league for OBP which is incredibly valuable in today's game. You need base runners to score runs. However, this is not where his strangth is. His strength lies in his SLG/power. His slugging percentage is in the top quartile for the league, pretty handidly too. He's also in the top quartile for OPS. On a basic level, this demonstrates his ability to hit for power while not compromising his ability to get on base.\n",
    "\n",
    "Next, I'll be looking at Mark Vientos. Although Mark Vientos has already been promoted to the Majors, it's important to look at the stats of players that have been called up and had success in the MLB. And I would definitely put Mark Vientos in this category with his incredible 2024 season. When looking at Vientos' batting average, it's clear he was having some level of success at the plate. He ranked in the upper quartile comfortably. Suprsingly, this is true for all of his stats except OBP where he still ranked in the 3rd quartile. "
   ]
  },
  {
   "cell_type": "code",
   "execution_count": null,
   "metadata": {},
   "outputs": [],
   "source": [
    "print(completeMetsAAAStats[defaultInfo + slashLine + plateDiscipline].sort_values(by='OPS', ascending=False))"
   ]
  },
  {
   "cell_type": "code",
   "execution_count": null,
   "metadata": {},
   "outputs": [],
   "source": [
    "print(print(completeMetsAAAStats[defaultInfo + slashLine + powerQuality].sort_values(by='OPS', ascending=False)))"
   ]
  }
 ],
 "metadata": {
  "kernelspec": {
   "display_name": "Python 3",
   "language": "python",
   "name": "python3"
  },
  "language_info": {
   "codemirror_mode": {
    "name": "ipython",
    "version": 3
   },
   "file_extension": ".py",
   "mimetype": "text/x-python",
   "name": "python",
   "nbconvert_exporter": "python",
   "pygments_lexer": "ipython3",
   "version": "3.7.9"
  },
  "orig_nbformat": 4
 },
 "nbformat": 4,
 "nbformat_minor": 2
}
