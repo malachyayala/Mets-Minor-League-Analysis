{
 "cells": [
  {
   "attachments": {},
   "cell_type": "markdown",
   "metadata": {},
   "source": [
    "## An Analysis of the 2024 Syracuse Mets"
   ]
  },
  {
   "cell_type": "code",
   "execution_count": null,
   "metadata": {},
   "outputs": [],
   "source": [
    "import pandas as pd\n",
    "from utils import *\n",
    "\n",
    "pd.set_option('display.width', 2000)\n",
    "pd.set_option('display.max_columns', None)\n",
    "\n",
    "columnsToConvert = ['OBP', 'SLG', 'Whiff%', 'BA']\n",
    "leaguewideAAAStatsDf = convertColumnsToNumeric(leaguewideAAAStatsDf, columnsToConvert)\n",
    "\n",
    "leaguewideAAAStatsDf['OPS'] = leaguewideAAAStatsDf['OBP'] + leaguewideAAAStatsDf['SLG']\n",
    "\n",
    "completeMetsAAAStats = joinSavantBbref(metsAAAbballSavant, metsAAAbballRef)\n",
    "completeMetsAAAStats['RC'] = ((completeMetsAAAStats['Hits'] + completeMetsAAAStats['BB']) * completeMetsAAAStats['TB'])/(completeMetsAAAStats['AB'] + completeMetsAAAStats['BB'])\n",
    "\n",
    "completeMetsAAAStats = completeMetsAAAStats[(completeMetsAAAStats['PA'] > 90) & (completeMetsAAAStats['Age'] <= 26)]\n",
    "\n",
    "leaguewideAAAStatsDf = calculateSavantStats(leaguewideAAAStatsDf)\n",
    "leaguewideAAAStatsDf = leaguewideAAAStatsDf[leaguewideAAAStatsDf['PA'] > 90]\n",
    "\n",
    "print(completeMetsAAAStats[defaultInfo + slashLine + ['HR', 'RC']].sort_values(by='OPS', ascending=False))\n",
    "summary_df = pd.concat([\n",
    "    leaguewideAAAStatsDf['BA'].describe(),\n",
    "    leaguewideAAAStatsDf['OBP'].describe(),\n",
    "    leaguewideAAAStatsDf['SLG'].describe(),\n",
    "    leaguewideAAAStatsDf['OPS'].describe()\n",
    "], axis=1)\n",
    "\n",
    "# Rename the columns to reflect the stats\n",
    "#summary_df.columns = ['BA', 'OBP', 'SLG', 'OPS']\n",
    "\n",
    "print(summary_df)\n",
    "\n",
    "#completeMetsAAAStats.plot(kind='bar', x='Player', y='HR', title='Home Runs by Player', legend=False)"
   ]
  },
  {
   "cell_type": "code",
   "execution_count": null,
   "metadata": {},
   "outputs": [],
   "source": [
    "print(completeMetsAAAStats[defaultInfo + slashLine + actualVsEx].sort_values(by='OPS', ascending=False))"
   ]
  },
  {
   "cell_type": "code",
   "execution_count": null,
   "metadata": {},
   "outputs": [],
   "source": [
    "print(completeMetsAAAStats[defaultInfo + slashLine + plateDiscipline].sort_values(by='OPS', ascending=False))"
   ]
  },
  {
   "cell_type": "code",
   "execution_count": null,
   "metadata": {},
   "outputs": [],
   "source": [
    "print(print(completeMetsAAAStats[defaultInfo + slashLine + powerQuality].sort_values(by='OPS', ascending=False)))"
   ]
  }
 ],
 "metadata": {
  "kernelspec": {
   "display_name": "Python 3",
   "language": "python",
   "name": "python3"
  },
  "language_info": {
   "codemirror_mode": {
    "name": "ipython",
    "version": 3
   },
   "file_extension": ".py",
   "mimetype": "text/x-python",
   "name": "python",
   "nbconvert_exporter": "python",
   "pygments_lexer": "ipython3",
   "version": "3.7.9"
  },
  "orig_nbformat": 4
 },
 "nbformat": 4,
 "nbformat_minor": 2
}
